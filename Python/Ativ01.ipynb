{
  "nbformat": 4,
  "nbformat_minor": 0,
  "metadata": {
    "colab": {
      "provenance": []
    },
    "kernelspec": {
      "name": "python3",
      "display_name": "Python 3"
    },
    "language_info": {
      "name": "python"
    }
  },
  "cells": [
    {
      "cell_type": "markdown",
      "source": [
        "**a) Quais são as principais características do Google Colaboratory (Jupyter Notebook)?**"
      ],
      "metadata": {
        "id": "s-3H1GBEpWiV"
      }
    },
    {
      "cell_type": "markdown",
      "source": [
        "O Google Colaboratory nada mais é do que o projeto Jupyter Notebook hospedado pelo Google. Tendo as principais características:\n",
        "\n",
        "\n",
        "*   Células em que você escreve e executa código Python e cria textos explicativos;\n",
        "*   Execução interativa do código, linha por linha ou célula por célula;\n",
        "*   Permite a criação de visualizações complexas e gráficos diretamente nas células de código;\n",
        "*   Ideal para a documentação, pois combina código, visualizações e texto explicativo em um único documento;\n",
        "*   Não precisa de configurações para o uso;\n",
        "*   Acesso gratuito a recurso computacionais, como GPUs e TPUs;\n",
        "*   Colaboração em tempo real.\n",
        "\n",
        "\n"
      ],
      "metadata": {
        "id": "GSe40bJdpjBn"
      }
    },
    {
      "cell_type": "markdown",
      "source": [
        "**b) Pesquise e explique a diferença entre um pacote e uma biblioteca em Python. Dê um exemplo de cada.**"
      ],
      "metadata": {
        "id": "5kD4AEHJvRkM"
      }
    },
    {
      "cell_type": "markdown",
      "source": [
        "Segundo o site “DIVE INTO PYTHON”, biblioteca e pacote são termos que são constantemente trocados, mas não são as mesmas coisas.\n",
        "A biblioteca é um coleção de módulos (arquivos separados que contêm código Python que pode ser importado para o seu código) que se unem para fornecer um conjunto específico de funções. É utilizando para tarefas específicas, como manipulação de arquivos, cálculos matemáticos ou conexão com banco de dados. Um exemplo de biblioteca é a NumPy, que fornece suporte a grandes arrays e matrizes multidimensionais.\n",
        "\n",
        "**Exemplo de Uso da Biblioteca numpy**\n",
        "```\n",
        "import numpy as np\n",
        "\n",
        "arr = np.array([9, 8, 7, 6, 5])\n",
        "print(arr)\n",
        "```\n",
        "Já os pacotes, são uma coleção de bibliotecas. Eles são uma combinação de várias bibliotecas com intenção de facilitar a instalação e o uso. Um exemplo de pacote Python é o pacote SciPy, que contém uma coleção de bibliotecas para computação científica.\n",
        "\n",
        "**Exemplo de Uso do Pacote scipy**\n",
        "```\n",
        "from scipy import constants\n",
        "\n",
        "print(constants.pi)\n",
        "```"
      ],
      "metadata": {
        "id": "ewfH5HzrvU1k"
      }
    },
    {
      "cell_type": "markdown",
      "source": [
        "**c) Crie duas variáveis, `a` e `b`, e atribua a elas os valores 10 e 20, respectivamente**"
      ],
      "metadata": {
        "id": "YkolJd-W29Uk"
      }
    },
    {
      "cell_type": "code",
      "source": [
        "a = 10\n",
        "b = 20"
      ],
      "metadata": {
        "id": "UqxDScvW3NFY"
      },
      "execution_count": 1,
      "outputs": []
    },
    {
      "cell_type": "markdown",
      "source": [
        "**d) Calcule a soma, a subtração, a multiplicação e a divisão dessas variáveis.**"
      ],
      "metadata": {
        "id": "zWqVWy7I3UKs"
      }
    },
    {
      "cell_type": "code",
      "source": [
        "soma = a + b\n",
        "subtracao = a - b\n",
        "multiplicacao = a * b\n",
        "divisao = a / b"
      ],
      "metadata": {
        "id": "fsc_u3Di3X1A"
      },
      "execution_count": 3,
      "outputs": []
    },
    {
      "cell_type": "markdown",
      "source": [
        "**e) Imprima os resultados de cada operação, identificando qual operação foi realizada.**"
      ],
      "metadata": {
        "id": "rX5BHOnr3uau"
      }
    },
    {
      "cell_type": "code",
      "source": [
        "print(\"Resultados\")\n",
        "print(f\"Soma: {soma}\")\n",
        "print(f\"Subtração: {subtracao}\")\n",
        "print(f\"Multiplicação: {multiplicacao}\")\n",
        "print(f\"Divisão: {divisao}\")"
      ],
      "metadata": {
        "colab": {
          "base_uri": "https://localhost:8080/"
        },
        "id": "sPetdaao3wcx",
        "outputId": "b93cd03f-064b-4e86-b322-e31eb857f45d"
      },
      "execution_count": 6,
      "outputs": [
        {
          "output_type": "stream",
          "name": "stdout",
          "text": [
            "Resultados\n",
            "Soma: 30\n",
            "Subtração: -10\n",
            "Multiplicação: 200\n",
            "Divisão: 0.5\n"
          ]
        }
      ]
    },
    {
      "cell_type": "code",
      "source": [],
      "metadata": {
        "id": "oidBZ-Id6oKJ"
      },
      "execution_count": null,
      "outputs": []
    }
  ]
}