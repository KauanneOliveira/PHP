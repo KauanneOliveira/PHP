{
  "nbformat": 4,
  "nbformat_minor": 0,
  "metadata": {
    "colab": {
      "provenance": []
    },
    "kernelspec": {
      "name": "python3",
      "display_name": "Python 3"
    },
    "language_info": {
      "name": "python"
    }
  },
  "cells": [
    {
      "cell_type": "code",
      "execution_count": 3,
      "metadata": {
        "colab": {
          "base_uri": "https://localhost:8080/"
        },
        "id": "bL9QVVJnnJsx",
        "outputId": "b6876a27-8eda-4574-a360-f49ac74f399b"
      },
      "outputs": [
        {
          "output_type": "stream",
          "name": "stdout",
          "text": [
            "Cachorro(nome=Chules, raca=Chihuahua, porte=pequeno, genero=macho)\n",
            "Cachorro(nome=Zeus, raca=Pit Bull, porte=médio, genero=fêmea)\n",
            "Cachorro(nome=Caramelo, raca=Vira lata, porte=médio, genero=macho)\n",
            "Cachorro(nome=Chloe, raca=Pastor alemão, porte=grande, genero=fêmea)\n"
          ]
        }
      ],
      "source": [
        "class Cachorro:\n",
        "    def __init__(self, nome, raca, porte, genero):\n",
        "\n",
        "        self.nome = nome\n",
        "        self.raca = raca\n",
        "        self.porte = porte\n",
        "        self.genero = genero\n",
        "\n",
        "    def __str__(self):\n",
        "        return f\"Cachorro(nome={self.nome}, raca={self.raca}, porte={self.porte}, genero={self.genero})\"\n",
        "\n",
        "cachorro1 = Cachorro(nome=\"Peufudo\", raca=\"Chihuahua\", porte=\"pequeno\", genero=\"macho\")\n",
        "cachorro2 = Cachorro(nome=\"Zeus\", raca=\"Pit Bull\", porte=\"médio\", genero=\"fêmea\")\n",
        "cachorro3 = Cachorro(nome=\"Caramelo\", raca=\"Vira lata\", porte=\"médio\", genero=\"macho\")\n",
        "cachorro4 = Cachorro(nome=\"Chloe\", raca=\"Pastor alemão\", porte=\"grande\", genero=\"fêmea\")\n",
        "\n",
        "\n",
        "print(cachorro1)\n",
        "print(cachorro2)\n",
        "print(cachorro3)\n",
        "print(cachorro4)"
      ]
    },
    {
      "cell_type": "code",
      "source": [
        "class Futebol:\n",
        "    def __init__(self, time, pais, serie, cor):\n",
        "\n",
        "        self.time = time\n",
        "        self.pais = pais\n",
        "        self.serie = serie\n",
        "        self.cor = cor\n",
        "\n",
        "    def __str__(self):\n",
        "        return f\"Futebol(time={self.time}, pais={self.pais}, serie={self.serie}, cor={self.cor})\"\n",
        "\n",
        "time1 = Futebol(time=\"São Paulo\", pais=\"Brasil\", serie=\"A\", cor=\"vermelho, branco e preto\")\n",
        "time2 = Futebol(time=\"Santos\", pais=\"Brasil\", serie=\"B\", cor=\"branco e preto\")\n",
        "time3 = Futebol(time=\"Juventude\", pais=\"Brasil\", serie=\"A\", cor=\"verde e branco\")\n",
        "time4 = Futebol(time=\"Ferroviária\", pais=\"Brasil\", serie=\"C\", cor=\"grená e branco\")\n",
        "\n",
        "\n",
        "print(time1)\n",
        "print(time2)\n",
        "print(time3)\n",
        "print(time4)"
      ],
      "metadata": {
        "colab": {
          "base_uri": "https://localhost:8080/"
        },
        "id": "iFQ3B1P6pwHk",
        "outputId": "083319cd-4085-4fbc-a724-c021dd359dda"
      },
      "execution_count": 2,
      "outputs": [
        {
          "output_type": "stream",
          "name": "stdout",
          "text": [
            "Futebol(time=São Paulo, pais=Brasil, serie=A, cor=vermelho, branco e preto)\n",
            "Futebol(time=Santos, pais=Brasil, serie=B, cor=branco e preto)\n",
            "Futebol(time=Juventude, pais=Brasil, serie=A, cor=verde e branco)\n",
            "Futebol(time=Ferroviária, pais=Brasil, serie=C, cor=grená e branco)\n"
          ]
        }
      ]
    }
  ]
}