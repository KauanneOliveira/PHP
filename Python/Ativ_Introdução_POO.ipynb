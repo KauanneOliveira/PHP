{
  "cells": [
    {
      "cell_type": "code",
      "execution_count": null,
      "metadata": {
        "colab": {
          "base_uri": "https://localhost:8080/"
        },
        "id": "bL9QVVJnnJsx",
        "outputId": "b3045f11-ca90-4a72-a3a2-85b9f04e0d2b"
      },
      "outputs": [
        {
          "ename": "",
          "evalue": "",
          "output_type": "error",
          "traceback": [
            "\u001b[1;31mRunning cells with 'Python 3.10.4' requires the ipykernel package.\n",
            "\u001b[1;31mRun the following command to install 'ipykernel' into the Python environment. \n",
            "\u001b[1;31mCommand: 'c:/Python310/python.exe -m pip install ipykernel -U --user --force-reinstall'"
          ]
        }
      ],
      "source": [
        "class Cachorro:\n",
        "    def __init__(self, nome, raca, porte, genero):\n",
        "\n",
        "        self.nome = nome\n",
        "        self.raca = raca\n",
        "        self.porte = porte\n",
        "        self.genero = genero\n",
        "\n",
        "    def __str__(self):\n",
        "        return f\"Cachorro(nome={self.nome}, raca={self.raca}, porte={self.porte}, genero={self.genero})\"\n",
        "\n",
        "cachorro1 = Cachorro(nome=\"Peufudo\", raca=\"Chihuahua\", porte=\"pequeno\", genero=\"macho\")\n",
        "cachorro2 = Cachorro(nome=\"Zeus\", raca=\"Pit Bull\", porte=\"médio\", genero=\"fêmea\")\n",
        "cachorro3 = Cachorro(nome=\"Caramelo\", raca=\"Vira lata\", porte=\"médio\", genero=\"macho\")\n",
        "cachorro4 = Cachorro(nome=\"Chloe\", raca=\"Pastor alemão\", porte=\"grande\", genero=\"fêmea\")\n",
        "\n",
        "\n",
        "print(cachorro1)\n",
        "print(cachorro2)\n",
        "print(cachorro3)\n",
        "print(cachorro4)"
      ]
    },
    {
      "cell_type": "code",
      "execution_count": null,
      "metadata": {
        "colab": {
          "base_uri": "https://localhost:8080/"
        },
        "id": "iFQ3B1P6pwHk",
        "outputId": "270be8e8-42ac-483b-b44d-081771b81e17"
      },
      "outputs": [
        {
          "name": "stdout",
          "output_type": "stream",
          "text": [
            "Futebol(time=São Paulo, pais=Brasil, serie=A, cor=vermelho, branco e preto)\n",
            "Futebol(time=Santos, pais=Brasil, serie=B, cor=branco e preto)\n",
            "Futebol(time=Juventude, pais=Brasil, serie=A, cor=verde e branco)\n",
            "Futebol(time=Ferroviária, pais=Brasil, serie=C, cor=grená e branco)\n"
          ]
        }
      ],
      "source": [
        "class Futebol:\n",
        "    def __init__(self, time, pais, serie, cor):\n",
        "\n",
        "        self.time = time\n",
        "        self.pais = pais\n",
        "        self.serie = serie\n",
        "        self.cor = cor\n",
        "\n",
        "    def __str__(self):\n",
        "        return f\"Futebol(time={self.time}, pais={self.pais}, serie={self.serie}, cor={self.cor})\"\n",
        "\n",
        "time1 = Futebol(time=\"São Paulo\", pais=\"Brasil\", serie=\"A\", cor=\"vermelho, branco e preto\")\n",
        "time2 = Futebol(time=\"Santos\", pais=\"Brasil\", serie=\"B\", cor=\"branco e preto\")\n",
        "time3 = Futebol(time=\"Juventude\", pais=\"Brasil\", serie=\"A\", cor=\"verde e branco\")\n",
        "time4 = Futebol(time=\"Ferroviária\", pais=\"Brasil\", serie=\"C\", cor=\"grená e branco\")\n",
        "\n",
        "\n",
        "print(time1)\n",
        "print(time2)\n",
        "print(time3)\n",
        "print(time4)"
      ]
    }
  ],
  "metadata": {
    "colab": {
      "provenance": []
    },
    "kernelspec": {
      "display_name": "Python 3",
      "name": "python3"
    },
    "language_info": {
      "name": "python",
      "version": "3.10.4"
    }
  },
  "nbformat": 4,
  "nbformat_minor": 0
}
