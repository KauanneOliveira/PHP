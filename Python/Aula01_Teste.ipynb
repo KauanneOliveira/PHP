{
  "nbformat": 4,
  "nbformat_minor": 0,
  "metadata": {
    "colab": {
      "provenance": []
    },
    "kernelspec": {
      "name": "python3",
      "display_name": "Python 3"
    },
    "language_info": {
      "name": "python"
    }
  },
  "cells": [
    {
      "cell_type": "markdown",
      "source": [
        "**Imprimir mensagens: Comando mais básico: print**"
      ],
      "metadata": {
        "id": "KLxeg_xra5fF"
      }
    },
    {
      "cell_type": "code",
      "source": [
        "print(\"Hello Word\")"
      ],
      "metadata": {
        "colab": {
          "base_uri": "https://localhost:8080/"
        },
        "id": "hHrrUP4AbPrc",
        "outputId": "0366b00c-d4f3-4a5c-ed7a-9394ea5223f6"
      },
      "execution_count": 1,
      "outputs": [
        {
          "output_type": "stream",
          "name": "stdout",
          "text": [
            "Hello Word\n"
          ]
        }
      ]
    },
    {
      "cell_type": "markdown",
      "source": [
        "**Declarando Variáveis**"
      ],
      "metadata": {
        "id": "kTMzoGpHb8Ho"
      }
    },
    {
      "cell_type": "code",
      "source": [
        "A = 10\n",
        "B = 20\n"
      ],
      "metadata": {
        "id": "slqJgcSNb7zk"
      },
      "execution_count": 2,
      "outputs": []
    },
    {
      "cell_type": "code",
      "source": [
        "print(A)\n",
        "print(B)"
      ],
      "metadata": {
        "colab": {
          "base_uri": "https://localhost:8080/"
        },
        "id": "4uuljxbKcQ8Q",
        "outputId": "f82732ca-92cf-489a-987f-8f1b6da9a599"
      },
      "execution_count": 3,
      "outputs": [
        {
          "output_type": "stream",
          "name": "stdout",
          "text": [
            "10\n",
            "20\n"
          ]
        }
      ]
    },
    {
      "cell_type": "code",
      "source": [
        "soma = A + B\n",
        "print(soma)"
      ],
      "metadata": {
        "colab": {
          "base_uri": "https://localhost:8080/"
        },
        "id": "k26tOZcocblC",
        "outputId": "68414e57-1d41-4db6-dbcf-ef285960fe76"
      },
      "execution_count": 4,
      "outputs": [
        {
          "output_type": "stream",
          "name": "stdout",
          "text": [
            "30\n"
          ]
        }
      ]
    },
    {
      "cell_type": "markdown",
      "source": [
        "**Trabalhando com diferentes tipos de dados em python **"
      ],
      "metadata": {
        "id": "-XV0n8AadLZu"
      }
    },
    {
      "cell_type": "code",
      "source": [
        "inteiro = 10\n",
        "flutuante = 20.5\n",
        "texto = \"Python é divertido\"\n",
        "booleano = True"
      ],
      "metadata": {
        "id": "yost3EKudXzQ"
      },
      "execution_count": 10,
      "outputs": []
    },
    {
      "cell_type": "code",
      "source": [
        "print(inteiro)\n",
        "print(flutuante)\n",
        "print(texto)\n",
        "print(booleano)"
      ],
      "metadata": {
        "colab": {
          "base_uri": "https://localhost:8080/"
        },
        "id": "tQM3ddcIeCaY",
        "outputId": "4bd14cfc-aaf7-451a-d5d8-3a8540f0bece"
      },
      "execution_count": 11,
      "outputs": [
        {
          "output_type": "stream",
          "name": "stdout",
          "text": [
            "10\n",
            "20.5\n",
            "Python é divertido\n",
            "True\n"
          ]
        }
      ]
    },
    {
      "cell_type": "markdown",
      "source": [
        "**Lista ou Arrays:** Lista são coleções de itens"
      ],
      "metadata": {
        "id": "VjRnQEx5fXeH"
      }
    },
    {
      "cell_type": "code",
      "source": [
        "#Criando uma lista\n",
        "frutas =[\"Maçã\", \"Banana\", \"Uva\"]\n",
        "print(frutas)"
      ],
      "metadata": {
        "colab": {
          "base_uri": "https://localhost:8080/"
        },
        "id": "ufb9GSQ8fkcY",
        "outputId": "6c819254-ceab-4c39-f282-ff3ff90650ce"
      },
      "execution_count": 13,
      "outputs": [
        {
          "output_type": "stream",
          "name": "stdout",
          "text": [
            "['Maçã', 'Banana', 'Uva']\n"
          ]
        }
      ]
    },
    {
      "cell_type": "code",
      "source": [
        "print(frutas[0])"
      ],
      "metadata": {
        "colab": {
          "base_uri": "https://localhost:8080/"
        },
        "id": "VR2g9r5MgKBn",
        "outputId": "15f9114a-a12f-4780-9599-31f1b2d1ea02"
      },
      "execution_count": 14,
      "outputs": [
        {
          "output_type": "stream",
          "name": "stdout",
          "text": [
            "Maçã\n"
          ]
        }
      ]
    },
    {
      "cell_type": "markdown",
      "source": [
        "**Estruturas de Controle:** Usando condicionais if e laços for"
      ],
      "metadata": {
        "id": "8dlmj6UJg3e1"
      }
    },
    {
      "cell_type": "code",
      "source": [
        "#Estrutura condicional\n",
        "numero = 10\n",
        "if numero > 5:\n",
        "  print(f\"O número {numero} é maior que 5\")\n",
        "else:\n",
        "  print(\"O número é menor que 5\")"
      ],
      "metadata": {
        "colab": {
          "base_uri": "https://localhost:8080/"
        },
        "id": "7MU0Wi17hGN7",
        "outputId": "66af3d19-27e0-4343-d4af-77a972047c74"
      },
      "execution_count": 21,
      "outputs": [
        {
          "output_type": "stream",
          "name": "stdout",
          "text": [
            "O número 10 é maior que 5\n"
          ]
        }
      ]
    },
    {
      "cell_type": "code",
      "source": [
        "# Laço for\n",
        "for fruta in frutas:\n",
        "  print(fruta)"
      ],
      "metadata": {
        "colab": {
          "base_uri": "https://localhost:8080/"
        },
        "id": "JfYJzdfYhg5i",
        "outputId": "d72c8aa6-d736-4780-f09c-2110c6387374"
      },
      "execution_count": 16,
      "outputs": [
        {
          "output_type": "stream",
          "name": "stdout",
          "text": [
            "Maçã\n",
            "Banana\n",
            "Uva\n"
          ]
        }
      ]
    }
  ]
}